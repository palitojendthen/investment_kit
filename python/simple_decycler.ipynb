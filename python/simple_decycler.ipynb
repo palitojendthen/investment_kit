def simple_decycler(src, hp_period = 89, n_ouput = 150, show_hysteresis = True):
    """
    technical analysis indicator originated by John F. Ehlers
    by subtracting high-frequency components from price data, 
    while retain the low-frequency components of price data i.e. trends are kept intact with little to no lag
    including a hyteresis band
    """
    
    # Length
    n = len(src)
    
    # Variable
    alpha_1 = 0.0
    hp = [0.0]*n
    hysteresis_up = [0.0]*n
    hysteresis_down = [0.0]*n
    decycler = [0.0]*n
    pi = 2*np.arcsin(1)
    alpha_1 = (np.cos(.707*2*pi/hp_period) + np.sin(.707*2*pi/hp_period) - 1) / np.cos(.707*2*pi/hp_period)
    
    # Decycler
    for i in range(1, n):
        hp[0] = 0
        hp[i] = (1-alpha_1/2)*(1-alpha_1/2)*(src[i]-2*src[i-1]+src[i-2]) + 2*(1-alpha_1)*hp[i-1]-(1-alpha_1)*(1-alpha_1)*hp[i-2]
        decycler[i] = src[i]-hp[i]
        hysteresis_up[i] = decycler[i]*(1+(.5/100))
        hysteresis_down[i] = decycler[i]*(1-(.5/100))

    
    # Return
    decycler = decycler[n_ouput:]
    src = src[n_ouput:]

    if show_hysteresis:
        hysteresis_up = hysteresis_up[n_ouput:]
        hysteresis_down = hysteresis_down[n_ouput:]
        return [decycler, src, hysteresis_up, hysteresis_down]
    else:
        return[decycler, src]
